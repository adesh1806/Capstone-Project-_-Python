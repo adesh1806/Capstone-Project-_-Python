{
 "cells": [
  {
   "cell_type": "code",
   "execution_count": 544,
   "id": "f250de0e-5abc-4f79-8643-58843c92422a",
   "metadata": {},
   "outputs": [],
   "source": [
    "#Capstone Project Python Fundamentals by Ashish Deshmukh"
   ]
  },
  {
   "cell_type": "code",
   "execution_count": 546,
   "id": "243bdee0-0da8-4011-992e-5dfbb8f613f8",
   "metadata": {},
   "outputs": [],
   "source": [
    "import pandas as pd"
   ]
  },
  {
   "cell_type": "code",
   "execution_count": 548,
   "id": "04a1f50d-698a-48a5-b2bf-76e785075838",
   "metadata": {},
   "outputs": [],
   "source": [
    "#task 1 There are three different tables as given above. Please make three dataframe in python"
   ]
  },
  {
   "cell_type": "code",
   "execution_count": 550,
   "id": "4d5e7fd4-ee66-4d55-8934-febbcad2c42c",
   "metadata": {},
   "outputs": [],
   "source": [
    "#task 1 Solution - \n",
    "#creation of first data frame named as 'project data frame'\n",
    "df = pd.DataFrame({'ID':['A001','A002','A003','A004','A005','A002','A005','A003','A001','A003','A001','A004','A004','A005'],'Project':['Project 1','Project 2','Project 3','Project 4','Project 5','Project 6','Project 7','Project 8','Project 9','Project 10','Project 11','Project 12','Project 13','Project 14'],\n",
    "                   'cost':[1002000,2000000,4500000,5500000,None,680000,400000,350000,None,300000,2000000,1000000,3000000,200000],'status':['Finished','Ongoing','Finished','Ongoing','Finished','Failed','Finished','Failed','Ongoing','Finished','Failed','Ongoing','Finished','Finished']})"
   ]
  },
  {
   "cell_type": "code",
   "execution_count": 552,
   "id": "18969e04-e48b-4081-8da2-35d5a948f3ac",
   "metadata": {},
   "outputs": [
    {
     "name": "stdout",
     "output_type": "stream",
     "text": [
      "      ID     Project       cost    status\n",
      "0   A001   Project 1  1002000.0  Finished\n",
      "1   A002   Project 2  2000000.0   Ongoing\n",
      "2   A003   Project 3  4500000.0  Finished\n",
      "3   A004   Project 4  5500000.0   Ongoing\n",
      "4   A005   Project 5        NaN  Finished\n",
      "5   A002   Project 6   680000.0    Failed\n",
      "6   A005   Project 7   400000.0  Finished\n",
      "7   A003   Project 8   350000.0    Failed\n",
      "8   A001   Project 9        NaN   Ongoing\n",
      "9   A003  Project 10   300000.0  Finished\n",
      "10  A001  Project 11  2000000.0    Failed\n",
      "11  A004  Project 12  1000000.0   Ongoing\n",
      "12  A004  Project 13  3000000.0  Finished\n",
      "13  A005  Project 14   200000.0  Finished\n"
     ]
    }
   ],
   "source": [
    "df.to_csv('Project_dataframe.csv',index=False)\n",
    "print(df)"
   ]
  },
  {
   "cell_type": "code",
   "execution_count": 554,
   "id": "0f3b7f09-a799-4d30-9119-407c236fbc7f",
   "metadata": {},
   "outputs": [],
   "source": [
    "#creation of sencong data fraome named as 'Employee data from\"\n",
    "df1=pd.DataFrame({'ID':['A001','A002','A003','A004','A005'],'Name':['John Alter','Alice Luxumberg','Tom Sabestine','Nina Adgra','Amy Johny'],'Gender':['M','F','M','F','F'],\n",
    "'City':['Paris','London','Berlin','Newyork','Madrid'],'Age':[25,27,29,31,30]})"
   ]
  },
  {
   "cell_type": "code",
   "execution_count": 556,
   "id": "4f59791e-9462-41e7-b83a-5eddb6250984",
   "metadata": {
    "scrolled": true
   },
   "outputs": [
    {
     "name": "stdout",
     "output_type": "stream",
     "text": [
      "     ID             Name Gender     City  Age\n",
      "0  A001       John Alter      M    Paris   25\n",
      "1  A002  Alice Luxumberg      F   London   27\n",
      "2  A003    Tom Sabestine      M   Berlin   29\n",
      "3  A004       Nina Adgra      F  Newyork   31\n",
      "4  A005        Amy Johny      F   Madrid   30\n"
     ]
    }
   ],
   "source": [
    "df1.to_csv('Employee_dataframe.csv',index=False)\n",
    "print(df1)"
   ]
  },
  {
   "cell_type": "code",
   "execution_count": 558,
   "id": "f40b677e-f9f6-4458-8b3b-69041944afc7",
   "metadata": {},
   "outputs": [],
   "source": [
    "#Creation of third data frame named as \"Seniority level data frome'\n",
    "df2=pd.DataFrame({'ID':['A001','A002','A003','A004','A005'],'Designation Level':[2,2,3,2,3]})"
   ]
  },
  {
   "cell_type": "code",
   "execution_count": 560,
   "id": "cfffafa6-2352-4894-a06c-d2a1c73ce7ab",
   "metadata": {},
   "outputs": [
    {
     "name": "stdout",
     "output_type": "stream",
     "text": [
      "     ID  Designation Level\n",
      "0  A001                  2\n",
      "1  A002                  2\n",
      "2  A003                  3\n",
      "3  A004                  2\n",
      "4  A005                  3\n"
     ]
    }
   ],
   "source": [
    "df2.to_csv('Seniority_level_dataframe.csv',index=False)\n",
    "print(df2)"
   ]
  },
  {
   "cell_type": "code",
   "execution_count": 562,
   "id": "9b3e11dc-26f7-4909-85e2-2a5da60735ab",
   "metadata": {},
   "outputs": [],
   "source": [
    "#task 2 - The cost column in the dataframe “Project” has some missing values. Your task is to compute these missing values. Replace the missing values by running average. You should use the “For” loop for this task."
   ]
  },
  {
   "cell_type": "code",
   "execution_count": 564,
   "id": "6d36a4a3-720c-4a51-8f8e-71f3f9d5a408",
   "metadata": {},
   "outputs": [
    {
     "name": "stdout",
     "output_type": "stream",
     "text": [
      "      ID     Project          cost    status\n",
      "0   A001   Project 1  1.002000e+06  Finished\n",
      "1   A002   Project 2  2.000000e+06   Ongoing\n",
      "2   A003   Project 3  4.500000e+06  Finished\n",
      "3   A004   Project 4  5.500000e+06   Ongoing\n",
      "4   A005   Project 5  3.250500e+06  Finished\n",
      "5   A002   Project 6  6.800000e+05    Failed\n",
      "6   A005   Project 7  4.000000e+05  Finished\n",
      "7   A003   Project 8  3.500000e+05    Failed\n",
      "8   A001   Project 9  2.061714e+06   Ongoing\n",
      "9   A003  Project 10  3.000000e+05  Finished\n",
      "10  A001  Project 11  2.000000e+06    Failed\n",
      "11  A004  Project 12  1.000000e+06   Ongoing\n",
      "12  A004  Project 13  3.000000e+06  Finished\n",
      "13  A005  Project 14  2.000000e+05  Finished\n"
     ]
    }
   ],
   "source": [
    "#Tast 2 Solution -\n",
    "\n",
    "df5=pd.read_csv('Project_dataframe.csv')\n",
    "# Calculating running average and filling missing values\n",
    "running_sum = 0\n",
    "count = 0\n",
    "\n",
    "# Iterate through the rows of the DataFrame\n",
    "for index, row in df5.iterrows():\n",
    "    if pd.isna(row['cost']):\n",
    "        # If 'cost' is missing, fill it with the running average\n",
    "        if count > 0:\n",
    "            running_avg = running_sum / count\n",
    "        else:\n",
    "            running_avg = 0  # If no previous values, assume 0\n",
    "        df5.at[index, 'cost'] = running_avg\n",
    "    else:\n",
    "        # If 'cost' is not missing, update the running sum and count\n",
    "        running_sum += row['cost']\n",
    "        count += 1\n",
    "\n",
    "# Displaying the updated DataFrame\n",
    "print(df5)\n"
   ]
  },
  {
   "cell_type": "code",
   "execution_count": 566,
   "id": "48172e86-e80b-4fb0-8554-7fdcb5626f15",
   "metadata": {},
   "outputs": [],
   "source": [
    "# Task 3 - Split the name column in the Employee dataframe into two new columns “First Name”, band “LastName” and remove the older “name” column."
   ]
  },
  {
   "cell_type": "code",
   "execution_count": 568,
   "id": "0dc14c67-56ef-4ede-864e-7d4593bc48ae",
   "metadata": {},
   "outputs": [
    {
     "name": "stdout",
     "output_type": "stream",
     "text": [
      "     ID Gender     City  Age First Name  Last Name\n",
      "0  A001      M    Paris   25       John      Alter\n",
      "1  A002      F   London   27      Alice  Luxumberg\n",
      "2  A003      M   Berlin   29        Tom  Sabestine\n",
      "3  A004      F  Newyork   31       Nina      Adgra\n",
      "4  A005      F   Madrid   30        Amy      Johny\n"
     ]
    }
   ],
   "source": [
    "# Task 3 - Solution - \n",
    "# Handling names with more than two parts by splitting the 'Name' column into First and Last\n",
    "df6=pd.read_csv('Employee_dataframe.csv')\n",
    "\n",
    "df6[['First Name', 'Last Name']] = df6['Name'].str.extract(r'([A-Za-z]+)\\s+(.+)')\n",
    "\n",
    "# Dropping the original 'Name' column\n",
    "df6.drop(columns=['Name'], inplace=True)\n",
    "\n",
    "# Displaying the updated DataFrame\n",
    "print(df6)"
   ]
  },
  {
   "cell_type": "code",
   "execution_count": 570,
   "id": "a0db16f7-fe0b-46d7-87c1-7684cd297f87",
   "metadata": {},
   "outputs": [],
   "source": [
    "# Tasgk 4 - Join all three dataframes in one single dataframe. Name it “Final”"
   ]
  },
  {
   "cell_type": "code",
   "execution_count": 572,
   "id": "bc0fccd3-0459-4c2d-93ea-a68f0b828d93",
   "metadata": {},
   "outputs": [
    {
     "name": "stdout",
     "output_type": "stream",
     "text": [
      "      ID     Project       cost    status             Name Gender     City  \\\n",
      "0   A001   Project 1  1002000.0  Finished       John Alter      M    Paris   \n",
      "1   A002   Project 2  2000000.0   Ongoing  Alice Luxumberg      F   London   \n",
      "2   A003   Project 3  4500000.0  Finished    Tom Sabestine      M   Berlin   \n",
      "3   A004   Project 4  5500000.0   Ongoing       Nina Adgra      F  Newyork   \n",
      "4   A005   Project 5        NaN  Finished        Amy Johny      F   Madrid   \n",
      "5   A002   Project 6   680000.0    Failed  Alice Luxumberg      F   London   \n",
      "6   A005   Project 7   400000.0  Finished        Amy Johny      F   Madrid   \n",
      "7   A003   Project 8   350000.0    Failed    Tom Sabestine      M   Berlin   \n",
      "8   A001   Project 9        NaN   Ongoing       John Alter      M    Paris   \n",
      "9   A003  Project 10   300000.0  Finished    Tom Sabestine      M   Berlin   \n",
      "10  A001  Project 11  2000000.0    Failed       John Alter      M    Paris   \n",
      "11  A004  Project 12  1000000.0   Ongoing       Nina Adgra      F  Newyork   \n",
      "12  A004  Project 13  3000000.0  Finished       Nina Adgra      F  Newyork   \n",
      "13  A005  Project 14   200000.0  Finished        Amy Johny      F   Madrid   \n",
      "\n",
      "    Age  Designation Level  \n",
      "0    25                  2  \n",
      "1    27                  2  \n",
      "2    29                  3  \n",
      "3    31                  2  \n",
      "4    30                  3  \n",
      "5    27                  2  \n",
      "6    30                  3  \n",
      "7    29                  3  \n",
      "8    25                  2  \n",
      "9    29                  3  \n",
      "10   25                  2  \n",
      "11   31                  2  \n",
      "12   31                  2  \n",
      "13   30                  3  \n"
     ]
    }
   ],
   "source": [
    "# task 4 solution - \n",
    "\n",
    "# Read the CSV files into DataFrames\n",
    "project_df = pd.read_csv('Project_dataframe.csv')\n",
    "employee_df = pd.read_csv('Employee_dataframe.csv')\n",
    "seniority_df = pd.read_csv('Seniority_level_dataframe.csv')\n",
    "\n",
    "# Merge the DataFrames\n",
    "# First merge project_df and employee_df on 'ID'\n",
    "merged_df = pd.merge(project_df, employee_df, on='ID', how='inner')\n",
    "\n",
    "# Now merge the result with seniority_df on 'ID'\n",
    "final_df = pd.merge(merged_df, seniority_df, on='ID', how='inner')\n",
    "\n",
    "# Save the final merged DataFrame to a CSV file\n",
    "final_df.to_csv('Final.csv', index=False)\n",
    "\n",
    "# Displaying the output\n",
    "print(final_df)"
   ]
  },
  {
   "cell_type": "code",
   "execution_count": 574,
   "id": "48ebdfa0-c7ce-468c-b4f3-f4f2e4e97291",
   "metadata": {},
   "outputs": [],
   "source": [
    "# Task 5 - Add a new bonus column in the Final dataframe. Give a 5% bonus concerning project cost only to employees who have finished the projects."
   ]
  },
  {
   "cell_type": "code",
   "execution_count": 576,
   "id": "32f3f6d3-acaa-4ba1-acac-391cd1aeb166",
   "metadata": {},
   "outputs": [
    {
     "name": "stdout",
     "output_type": "stream",
     "text": [
      "      ID     Project       cost    status             Name Gender     City  \\\n",
      "0   A001   Project 1  1002000.0  Finished       John Alter      M    Paris   \n",
      "1   A002   Project 2  2000000.0   Ongoing  Alice Luxumberg      F   London   \n",
      "2   A003   Project 3  4500000.0  Finished    Tom Sabestine      M   Berlin   \n",
      "3   A004   Project 4  5500000.0   Ongoing       Nina Adgra      F  Newyork   \n",
      "4   A005   Project 5        NaN  Finished        Amy Johny      F   Madrid   \n",
      "5   A002   Project 6   680000.0    Failed  Alice Luxumberg      F   London   \n",
      "6   A005   Project 7   400000.0  Finished        Amy Johny      F   Madrid   \n",
      "7   A003   Project 8   350000.0    Failed    Tom Sabestine      M   Berlin   \n",
      "8   A001   Project 9        NaN   Ongoing       John Alter      M    Paris   \n",
      "9   A003  Project 10   300000.0  Finished    Tom Sabestine      M   Berlin   \n",
      "10  A001  Project 11  2000000.0    Failed       John Alter      M    Paris   \n",
      "11  A004  Project 12  1000000.0   Ongoing       Nina Adgra      F  Newyork   \n",
      "12  A004  Project 13  3000000.0  Finished       Nina Adgra      F  Newyork   \n",
      "13  A005  Project 14   200000.0  Finished        Amy Johny      F   Madrid   \n",
      "\n",
      "    Age  Designation Level     Bonus  \n",
      "0    25                  2   50100.0  \n",
      "1    27                  2       NaN  \n",
      "2    29                  3  225000.0  \n",
      "3    31                  2       NaN  \n",
      "4    30                  3       NaN  \n",
      "5    27                  2       NaN  \n",
      "6    30                  3   20000.0  \n",
      "7    29                  3       NaN  \n",
      "8    25                  2       NaN  \n",
      "9    29                  3   15000.0  \n",
      "10   25                  2       NaN  \n",
      "11   31                  2       NaN  \n",
      "12   31                  2  150000.0  \n",
      "13   30                  3   10000.0  \n"
     ]
    }
   ],
   "source": [
    "#task 5 Solution - \n",
    "final_bonus = pd.read_csv('Final.csv')\n",
    "\n",
    "# Adding a new column 'Bonus' to the DataFrame\n",
    "final_bonus['Bonus'] = final_bonus.apply(\n",
    "    lambda row: row['cost'] * 0.05 if row['status'] == 'Finished' and pd.notnull(row['cost']) else None, axis=1\n",
    ")\n",
    "\n",
    "final_bonus.to_csv('final_bonus.csv', index=False)\n",
    "# Display the updated DataFrame with the 'Bonus' column\n",
    "print(final_bonus)"
   ]
  },
  {
   "cell_type": "code",
   "execution_count": 578,
   "id": "86ceab96-9b2d-4b13-b491-e3b6e433983f",
   "metadata": {},
   "outputs": [],
   "source": [
    "#task 6 - Demote the designation level by 1, whose projects have status “fail”. Delete the employees record whose designation level is above 4."
   ]
  },
  {
   "cell_type": "code",
   "execution_count": 580,
   "id": "f45818f4-ccb5-414c-8af1-f35e4a41a32f",
   "metadata": {},
   "outputs": [
    {
     "name": "stdout",
     "output_type": "stream",
     "text": [
      "      ID     Project       cost    status             Name Gender     City  \\\n",
      "0   A001   Project 1  1002000.0  Finished       John Alter      M    Paris   \n",
      "1   A002   Project 2  2000000.0   Ongoing  Alice Luxumberg      F   London   \n",
      "2   A003   Project 3  4500000.0  Finished    Tom Sabestine      M   Berlin   \n",
      "3   A004   Project 4  5500000.0   Ongoing       Nina Adgra      F  Newyork   \n",
      "4   A005   Project 5        NaN  Finished        Amy Johny      F   Madrid   \n",
      "5   A002   Project 6   680000.0    Failed  Alice Luxumberg      F   London   \n",
      "6   A005   Project 7   400000.0  Finished        Amy Johny      F   Madrid   \n",
      "7   A003   Project 8   350000.0    Failed    Tom Sabestine      M   Berlin   \n",
      "8   A001   Project 9        NaN   Ongoing       John Alter      M    Paris   \n",
      "9   A003  Project 10   300000.0  Finished    Tom Sabestine      M   Berlin   \n",
      "10  A001  Project 11  2000000.0    Failed       John Alter      M    Paris   \n",
      "11  A004  Project 12  1000000.0   Ongoing       Nina Adgra      F  Newyork   \n",
      "12  A004  Project 13  3000000.0  Finished       Nina Adgra      F  Newyork   \n",
      "13  A005  Project 14   200000.0  Finished        Amy Johny      F   Madrid   \n",
      "\n",
      "    Age  Designation Level     Bonus  \n",
      "0    25                  2   50100.0  \n",
      "1    27                  2       NaN  \n",
      "2    29                  3  225000.0  \n",
      "3    31                  2       NaN  \n",
      "4    30                  3       NaN  \n",
      "5    27                  1       NaN  \n",
      "6    30                  3   20000.0  \n",
      "7    29                  2       NaN  \n",
      "8    25                  2       NaN  \n",
      "9    29                  3   15000.0  \n",
      "10   25                  1       NaN  \n",
      "11   31                  2       NaN  \n",
      "12   31                  2  150000.0  \n",
      "13   30                  3   10000.0  \n"
     ]
    }
   ],
   "source": [
    "#tast 6 solution - \n",
    "df7=pd.read_csv('final_bonus.csv')\n",
    "# 1. Demote the designation level by 1 for employees whose projects have status \"Failed\"\n",
    "df7.loc[df7['status'] == 'Failed', 'Designation Level'] -= 1\n",
    "\n",
    "# 2. Delete employee records whose designation level is above 4\n",
    "df7 = df7[df7['Designation Level'] <= 4]\n",
    "\n",
    "df7.to_csv('final_bonus.csv',index=False)\n",
    "# Display the updated DataFrame\n",
    "print(df7)\n"
   ]
  },
  {
   "cell_type": "code",
   "execution_count": 582,
   "id": "6141267c-19ee-433a-965c-66134a3ddc2f",
   "metadata": {},
   "outputs": [],
   "source": [
    "    #task 7 - Add “Mr.” and “Mrs.” to the first name column and drop the gender column"
   ]
  },
  {
   "cell_type": "code",
   "execution_count": 584,
   "id": "ab3c6e48-6e8b-41d5-a51a-1fbed2057ede",
   "metadata": {},
   "outputs": [
    {
     "name": "stdout",
     "output_type": "stream",
     "text": [
      "      ID     Project       cost    status             Name     City  Age  \\\n",
      "0   A001   Project 1  1002000.0  Finished       John Alter    Paris   25   \n",
      "1   A002   Project 2  2000000.0   Ongoing  Alice Luxumberg   London   27   \n",
      "2   A003   Project 3  4500000.0  Finished    Tom Sabestine   Berlin   29   \n",
      "3   A004   Project 4  5500000.0   Ongoing       Nina Adgra  Newyork   31   \n",
      "4   A005   Project 5        NaN  Finished        Amy Johny   Madrid   30   \n",
      "5   A002   Project 6   680000.0    Failed  Alice Luxumberg   London   27   \n",
      "6   A005   Project 7   400000.0  Finished        Amy Johny   Madrid   30   \n",
      "7   A003   Project 8   350000.0    Failed    Tom Sabestine   Berlin   29   \n",
      "8   A001   Project 9        NaN   Ongoing       John Alter    Paris   25   \n",
      "9   A003  Project 10   300000.0  Finished    Tom Sabestine   Berlin   29   \n",
      "10  A001  Project 11  2000000.0    Failed       John Alter    Paris   25   \n",
      "11  A004  Project 12  1000000.0   Ongoing       Nina Adgra  Newyork   31   \n",
      "12  A004  Project 13  3000000.0  Finished       Nina Adgra  Newyork   31   \n",
      "13  A005  Project 14   200000.0  Finished        Amy Johny   Madrid   30   \n",
      "\n",
      "    Designation Level     Bonus  First Name  \n",
      "0                   2   50100.0    Mr. John  \n",
      "1                   2       NaN  Mrs. Alice  \n",
      "2                   3  225000.0     Mr. Tom  \n",
      "3                   2       NaN   Mrs. Nina  \n",
      "4                   3       NaN    Mrs. Amy  \n",
      "5                   1       NaN  Mrs. Alice  \n",
      "6                   3   20000.0    Mrs. Amy  \n",
      "7                   2       NaN     Mr. Tom  \n",
      "8                   2       NaN    Mr. John  \n",
      "9                   3   15000.0     Mr. Tom  \n",
      "10                  1       NaN    Mr. John  \n",
      "11                  2       NaN   Mrs. Nina  \n",
      "12                  2  150000.0   Mrs. Nina  \n",
      "13                  3   10000.0    Mrs. Amy  \n"
     ]
    }
   ],
   "source": [
    "#task 7 Solution -  \n",
    "\n",
    "df8 = pd.read_csv('final_bonus.csv')\n",
    "\n",
    "# Adding \"Mr.\" or \"Mrs.\" to the first name based on gender\n",
    "df8['First Name'] = df8['Name'].apply(lambda x: 'Mr. ' + x.split()[0] if df8.loc[df8['Name'] == x, 'Gender'].values[0] == 'M' else 'Mrs. ' + x.split()[0])\n",
    "\n",
    "# Dropping the Gender column\n",
    "df8.drop(columns=['Gender'], inplace=True)\n",
    "\n",
    "# Display the updated DataFrame\n",
    "print(df8)"
   ]
  },
  {
   "cell_type": "code",
   "execution_count": 586,
   "id": "62c9f7df-97a6-4108-9e05-0c0969843433",
   "metadata": {},
   "outputs": [],
   "source": [
    "##Task 8 - Promote designation level by 1 for the employees whose age is more than 29 years using IF condition."
   ]
  },
  {
   "cell_type": "code",
   "execution_count": 588,
   "id": "ea2dcdac-f04e-44b1-9608-415bc48377ee",
   "metadata": {},
   "outputs": [
    {
     "name": "stdout",
     "output_type": "stream",
     "text": [
      "      ID     Project       cost    status             Name Gender     City  \\\n",
      "0   A001   Project 1  1002000.0  Finished       John Alter      M    Paris   \n",
      "1   A002   Project 2  2000000.0   Ongoing  Alice Luxumberg      F   London   \n",
      "2   A003   Project 3  4500000.0  Finished    Tom Sabestine      M   Berlin   \n",
      "3   A004   Project 4  5500000.0   Ongoing       Nina Adgra      F  Newyork   \n",
      "4   A005   Project 5        NaN  Finished        Amy Johny      F   Madrid   \n",
      "5   A002   Project 6   680000.0    Failed  Alice Luxumberg      F   London   \n",
      "6   A005   Project 7   400000.0  Finished        Amy Johny      F   Madrid   \n",
      "7   A003   Project 8   350000.0    Failed    Tom Sabestine      M   Berlin   \n",
      "8   A001   Project 9        NaN   Ongoing       John Alter      M    Paris   \n",
      "9   A003  Project 10   300000.0  Finished    Tom Sabestine      M   Berlin   \n",
      "10  A001  Project 11  2000000.0    Failed       John Alter      M    Paris   \n",
      "11  A004  Project 12  1000000.0   Ongoing       Nina Adgra      F  Newyork   \n",
      "12  A004  Project 13  3000000.0  Finished       Nina Adgra      F  Newyork   \n",
      "13  A005  Project 14   200000.0  Finished        Amy Johny      F   Madrid   \n",
      "\n",
      "    Age  Designation Level     Bonus  \n",
      "0    25                  2   50100.0  \n",
      "1    27                  2       NaN  \n",
      "2    29                  3  225000.0  \n",
      "3    31                  3       NaN  \n",
      "4    30                  4       NaN  \n",
      "5    27                  1       NaN  \n",
      "6    30                  4   20000.0  \n",
      "7    29                  2       NaN  \n",
      "8    25                  2       NaN  \n",
      "9    29                  3   15000.0  \n",
      "10   25                  1       NaN  \n",
      "11   31                  3       NaN  \n",
      "12   31                  3  150000.0  \n",
      "13   30                  4   10000.0  \n"
     ]
    }
   ],
   "source": [
    "#Tsdk 8 Solution - \n",
    "    \n",
    "df10 = pd.read_csv('final_bonus.csv')\n",
    "\n",
    "# Iterate over the rows of the DataFrame\n",
    "for index, row in df10.iterrows():\n",
    "    if row['Age'] > 29:\n",
    "        # Update the Designation Level for that row\n",
    "        df10.at[index, 'Designation Level'] += 1\n",
    "\n",
    "df10.to_csv('final_bonus.csv', index=False)\n",
    "# Printing the updated DataFrame\n",
    "print(df10)"
   ]
  },
  {
   "cell_type": "code",
   "execution_count": 590,
   "id": "45bb784b-0821-418a-b3b5-c0844c1b3cb4",
   "metadata": {},
   "outputs": [],
   "source": [
    "#Task 9 - Add the cost of all projects for each Employee and save it in new dataframe “TotalProjCost” with three columns ID, First Name, and Total cost"
   ]
  },
  {
   "cell_type": "code",
   "execution_count": 592,
   "id": "5bb6e671-99da-44e2-9e32-1da5b90a2891",
   "metadata": {},
   "outputs": [
    {
     "name": "stdout",
     "output_type": "stream",
     "text": [
      "     ID First Name  Total cost\n",
      "0  A001       John   3002000.0\n",
      "1  A002      Alice   2680000.0\n",
      "2  A003        Tom   5150000.0\n",
      "3  A004       Nina   9500000.0\n",
      "4  A005        Amy    600000.0\n"
     ]
    }
   ],
   "source": [
    "#Task 9 Solution - \n",
    "\n",
    "df11 = pd.read_csv('final_bonus.csv')\n",
    "\n",
    "# Replace None/NaN with 0 in 'cost' column\n",
    "df11['cost'] = df11['cost'].fillna(0)\n",
    "\n",
    "# Extract first name from the 'Name' column\n",
    "df11['First Name'] = df11['Name'].apply(lambda x: x.split()[0])\n",
    "\n",
    "# Group by ID and First Name, and sum the cost for each group\n",
    "total_proj_cost = df11.groupby(['ID', 'First Name'])['cost'].sum().reset_index()\n",
    "\n",
    "# Rename the 'cost' column to 'Total cost'\n",
    "total_proj_cost.rename(columns={'cost': 'Total cost'}, inplace=True)\n",
    "\n",
    "total_proj_cost.to_csv('totalprojcost.csv',index=False)\n",
    "# Printing the resulting DataFrame\n",
    "print(total_proj_cost)"
   ]
  },
  {
   "cell_type": "code",
   "execution_count": 594,
   "id": "eddac60a-c21c-4677-9047-29b22156c90c",
   "metadata": {},
   "outputs": [],
   "source": [
    "#task 10 - Print all the employee details whose city name contains the letter “o” in it."
   ]
  },
  {
   "cell_type": "code",
   "execution_count": 596,
   "id": "77742cb9-5269-4933-af6b-a5b9c3d66fa1",
   "metadata": {},
   "outputs": [
    {
     "name": "stdout",
     "output_type": "stream",
     "text": [
      "      ID     Project       cost    status             Name Gender     City  \\\n",
      "1   A002   Project 2  2000000.0   Ongoing  Alice Luxumberg      F   London   \n",
      "3   A004   Project 4  5500000.0   Ongoing       Nina Adgra      F  Newyork   \n",
      "5   A002   Project 6   680000.0    Failed  Alice Luxumberg      F   London   \n",
      "11  A004  Project 12  1000000.0   Ongoing       Nina Adgra      F  Newyork   \n",
      "12  A004  Project 13  3000000.0  Finished       Nina Adgra      F  Newyork   \n",
      "\n",
      "    Age  Designation Level     Bonus  \n",
      "1    27                  2       NaN  \n",
      "3    31                  3       NaN  \n",
      "5    27                  1       NaN  \n",
      "11   31                  3       NaN  \n",
      "12   31                  3  150000.0  \n"
     ]
    }
   ],
   "source": [
    "#task 10 solution - \n",
    "\n",
    "df12=pd.read_csv('final_bonus.csv')\n",
    "\n",
    "# Filter the employees whose city contains the letter \"o\"\n",
    "filtered_df = df12[df12['City'].str.contains('o', case=False, na=False)]\n",
    "\n",
    "filtered_df.to_csv('final_bonus.csv',index=False)\n",
    "# Printing the filtered employee details\n",
    "print(filtered_df)"
   ]
  }
 ],
 "metadata": {
  "kernelspec": {
   "display_name": "Python [conda env:base] *",
   "language": "python",
   "name": "conda-base-py"
  },
  "language_info": {
   "codemirror_mode": {
    "name": "ipython",
    "version": 3
   },
   "file_extension": ".py",
   "mimetype": "text/x-python",
   "name": "python",
   "nbconvert_exporter": "python",
   "pygments_lexer": "ipython3",
   "version": "3.12.7"
  }
 },
 "nbformat": 4,
 "nbformat_minor": 5
}
